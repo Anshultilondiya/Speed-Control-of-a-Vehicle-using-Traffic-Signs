{
 "cells": [
  {
   "cell_type": "code",
   "execution_count": 1,
   "metadata": {},
   "outputs": [],
   "source": [
    "import matplotlib.pyplot as plt\n",
    "import numpy as np\n",
    "from mpl_toolkits.mplot3d import Axes3D\n",
    "from PIL import Image\n",
    "%matplotlib widget"
   ]
  },
  {
   "cell_type": "code",
   "execution_count": 2,
   "metadata": {},
   "outputs": [],
   "source": [
    "def plot_matrix(matrix):\n",
    "    fig = plt.figure()\n",
    "    splt = fig.add_subplot(111, projection=\"3d\")\n",
    "    \n",
    "    ny = matrix.shape[0]\n",
    "    nx = matrix.shape[1]\n",
    "    \n",
    "    xpos = np.array([i for i in range(nx)]*ny)\n",
    "    ypos = np.array([[i]*nx for i in range(ny)])\n",
    "    ypos = ypos.ravel()\n",
    "    zpos = np.zeros(nx*ny)\n",
    "    \n",
    "    dx = np.ones(nx*ny)\n",
    "    dy = np.ones(nx*ny)\n",
    "    dz = matrix.ravel()\n",
    "    \n",
    "    splt.bar3d(ypos, xpos, zpos, dx, dy, dz, color=\"grey\")\n",
    "    plt.show()"
   ]
  },
  {
   "cell_type": "markdown",
   "metadata": {},
   "source": [
    "stop_img = Image.open('Signs/30.jpg')\n",
    "stop_arr = np.array(stop_img)\n",
    "plt.imshow(stop_arr)\n",
    "print(stop_arr.shape[])"
   ]
  },
  {
   "cell_type": "code",
   "execution_count": 8,
   "metadata": {},
   "outputs": [],
   "source": [
    "stop_gry = np.zeros(shape=stop_arr.shape[:-1])\n",
    "stop_gry = 0.3*stop_arr[:,:,0]+0.59*stop_arr[:,:,1]+0.11*stop_arr[:,:,2]"
   ]
  },
  {
   "cell_type": "code",
   "execution_count": 41,
   "metadata": {},
   "outputs": [],
   "source": [
    "stop_gry1 = (stop_gry>35)*(np.ones(shape=stop_gry.shape)*255)\n",
    "img_gry = Image.fromarray(stop_gry1.astype('uint8'))\n",
    "img_gry.show()"
   ]
  }
 ],
 "metadata": {
  "kernelspec": {
   "display_name": "Python 3",
   "language": "python",
   "name": "python3"
  },
  "language_info": {
   "codemirror_mode": {
    "name": "ipython",
    "version": 3
   },
   "file_extension": ".py",
   "mimetype": "text/x-python",
   "name": "python",
   "nbconvert_exporter": "python",
   "pygments_lexer": "ipython3",
   "version": "3.7.4"
  }
 },
 "nbformat": 4,
 "nbformat_minor": 4
}
