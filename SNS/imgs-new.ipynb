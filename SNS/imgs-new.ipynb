{
 "cells": [
  {
   "cell_type": "code",
   "execution_count": 2,
   "metadata": {},
   "outputs": [],
   "source": [
    "import matplotlib.pyplot as plt\n",
    "import numpy as np\n",
    "from mpl_toolkits.mplot3d import Axes3D\n",
    "from PIL import Image\n",
    "from IPython.display import display\n",
    "# %matplotlib widget"
   ]
  },
  {
   "cell_type": "code",
   "execution_count": 3,
   "metadata": {},
   "outputs": [],
   "source": [
    "def plot_matrix(matrix):\n",
    "    fig = plt.figure()\n",
    "    splt = fig.add_subplot(111, projection=\"3d\")\n",
    "    \n",
    "    ny = matrix.shape[0]\n",
    "    nx = matrix.shape[1]\n",
    "    \n",
    "    xpos = np.array([i for i in range(nx)]*ny)\n",
    "    ypos = np.array([[i]*nx for i in range(ny)])\n",
    "    ypos = ypos.ravel()\n",
    "    zpos = np.zeros(nx*ny)\n",
    "    \n",
    "    dx = np.ones(nx*ny)\n",
    "    dy = np.ones(nx*ny)\n",
    "    dz = matrix.ravel()\n",
    "    \n",
    "    splt.bar3d(ypos, xpos, zpos, dx, dy, dz, color=\"grey\")\n",
    "    plt.show()"
   ]
  },
  {
   "cell_type": "code",
   "execution_count": 4,
   "metadata": {},
   "outputs": [
    {
     "name": "stdout",
     "output_type": "stream",
     "text": [
      "(100, 100)\n"
     ]
    },
    {
     "data": {
      "image/png": "[encoded data removed]",
      "text/plain": [
       "<Figure size 432x288 with 1 Axes>"
      ]
     },
     "metadata": {
      "needs_background": "light"
     },
     "output_type": "display_data"
    }
   ],
   "source": [
    "stop_img = Image.open('Signs/school.jpg')\n",
    "stop_arr = np.array(stop_img)\n",
    "plt.imshow(stop_arr)\n",
    "print(stop_arr.shape[:-1])"
   ]
  },
  {
   "cell_type": "code",
   "execution_count": 5,
   "metadata": {},
   "outputs": [],
   "source": [
    "stop_gry = np.zeros(shape=stop_arr.shape[:-1])\n",
    "stop_gry = 0.3*stop_arr[:,:,0]+0.59*stop_arr[:,:,1]+0.11*stop_arr[:,:,2]"
   ]
  },
  {
   "cell_type": "code",
   "execution_count": 6,
   "metadata": {},
   "outputs": [],
   "source": [
    "stop_gry1 = (stop_gry>35)*(np.ones(shape=stop_gry.shape)*255)\n",
    "img_gry = Image.fromarray(stop_gry1.astype('uint8'))\n",
    "# img_gry.save(\"stop.png\")\n",
    "# img_gry.show()"
   ]
  },
  {
   "cell_type": "code",
   "execution_count": 7,
   "metadata": {},
   "outputs": [],
   "source": [
    "def detect_object(img_matrix):\n",
    "    nx = img_matrix.shape[1]\n",
    "    ny = img_matrix.shape[0]\n",
    "    \n",
    "    img_matrix_copy = np.copy(img_matrix)\n",
    "    \n",
    "    max_top = ny\n",
    "    max_bottom = 0\n",
    "    max_left = nx\n",
    "    max_right = 0\n",
    "    \n",
    "    for i in range(1, ny-1):\n",
    "        \n",
    "        hit = False\n",
    "        for j in range(1, nx-1):\n",
    "            \n",
    "            if(not hit):\n",
    "                if(img_matrix[i+1][j] or img_matrix[i][j+1] or img_matrix[i-1][j] or img_matrix[i][j-1]):\n",
    "                    if(not img_matrix[i][j]):\n",
    "                        img_matrix_copy[i][j] = 65\n",
    "                        hit = True\n",
    "                        if(img_matrix[i+1][j]):\n",
    "                            max_top = i if(i<max_top) else max_top\n",
    "                        if(img_matrix[i][j+1]):\n",
    "                            max_left = j if(j<max_left) else max_left\n",
    "                        if(img_matrix[i][j-1]):\n",
    "                            max_right = j if(j>max_right) else max_right\n",
    "                        if(img_matrix[i-1][j]):\n",
    "                            max_bottom = i if(i>max_bottom) else max_bottom\n",
    "            else:\n",
    "                if(not img_matrix[i][j]):\n",
    "                    img_matrix_copy[i][j] = 65\n",
    "                    if(img_matrix[i+1][j]):\n",
    "                        max_top = i if(i<max_top) else max_top\n",
    "                    if(img_matrix[i][j+1]):\n",
    "                        max_left = j if(j<max_left) else max_left\n",
    "                    if(img_matrix[i][j-1]):\n",
    "                        max_right = j if(j>max_right) else max_right\n",
    "                    if(img_matrix[i-1][j]):\n",
    "                        max_bottom = i if(i>max_bottom) else max_bottom\n",
    "                    hit = False\n",
    "                    \n",
    "    for i in range(max_top, max_bottom):\n",
    "        img_matrix_copy[i][max_left] = 90\n",
    "        img_matrix_copy[i][max_right] = 90\n",
    "    for j in range(max_left, max_right):\n",
    "        img_matrix_copy[max_top][j] = 90\n",
    "        img_matrix_copy[max_bottom][j] = 90\n",
    "        \n",
    "    \n",
    "    container = np.zeros(3)\n",
    "    for i in range(max_top, max_bottom):\n",
    "        for j in range(max_left, max_right):\n",
    "            container += stop_arr[i][j]\n",
    "    new_img = Image.fromarray(img_matrix_copy.astype('uint8'))\n",
    "    display(stop_img)\n",
    "    display(new_img)\n",
    "#     new_img.show()\n",
    "    return container"
   ]
  },
  {
   "cell_type": "code",
   "execution_count": 8,
   "metadata": {},
   "outputs": [],
   "source": [
    "db_arr = np.array([\n",
    "    [214363, 77584, 80037], \n",
    "    [312336, 237540, 242010], \n",
    "    [307594, 232794, 237236], \n",
    "    [544232, 78318, 79161]\n",
    "])\n",
    "db_keys = {0:\"school\", 1:\"speed limit 10\", 2:\"speed limit 30\", 3:\"stop\"}\n",
    "def check_db(cont):\n",
    "    error = []\n",
    "    for i in range(db_arr.shape[0]):\n",
    "        error.append(np.sum(np.abs(db_arr[i]-cont)))\n",
    "    print(error)\n",
    "    return db_keys[np.where(error == np.amin(error))[0][0]]"
   ]
  },
  {
   "cell_type": "code",
   "execution_count": 9,
   "metadata": {},
   "outputs": [
    {
     "data": {
      "image/png": "[encoded data removed]",
      "text/plain": [
       "<PIL.JpegImagePlugin.JpegImageFile image mode=RGB size=100x100 at 0x7F5205F83DD8>"
      ]
     },
     "metadata": {},
     "output_type": "display_data"
    },
    {
     "data": {
      "image/png": "[encoded data removed]",
      "text/plain": [
       "<PIL.Image.Image image mode=L size=100x100 at 0x7F51CB00E4E0>"
      ]
     },
     "metadata": {},
     "output_type": "display_data"
    },
    {
     "name": "stdout",
     "output_type": "stream",
     "text": [
      "[0.0, 419902.0, 405640.0, 331479.0]\n",
      "school\n"
     ]
    }
   ],
   "source": [
    "\n",
    "cont = detect_object(stop_gry1)\n",
    "print(check_db(cont))\n",
    "# print(cont)"
   ]
  },
  {
   "cell_type": "code",
   "execution_count": null,
   "metadata": {},
   "outputs": [],
   "source": []
  },
  {
   "cell_type": "code",
   "execution_count": null,
   "metadata": {},
   "outputs": [],
   "source": []
  }
 ],
 "metadata": {
  "kernelspec": {
   "display_name": "Python 3",
   "language": "python",
   "name": "python3"
  },
  "language_info": {
   "codemirror_mode": {
    "name": "ipython",
    "version": 3
   },
   "file_extension": ".py",
   "mimetype": "text/x-python",
   "name": "python",
   "nbconvert_exporter": "python",
   "pygments_lexer": "ipython3",
   "version": "3.6.8"
  }
 },
 "nbformat": 4,
 "nbformat_minor": 4
}
