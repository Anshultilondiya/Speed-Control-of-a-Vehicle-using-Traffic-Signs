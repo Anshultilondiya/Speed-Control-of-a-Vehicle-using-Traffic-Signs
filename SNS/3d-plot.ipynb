{
 "cells": [
  {
   "cell_type": "code",
   "execution_count": 1,
   "metadata": {},
   "outputs": [],
   "source": [
    "import matplotlib.pyplot as plt\n",
    "from mpl_toolkits.mplot3d import Axes3D\n",
    "import numpy as np\n",
    "%matplotlib widget"
   ]
  },
  {
   "cell_type": "code",
   "execution_count": 20,
   "metadata": {},
   "outputs": [
    {
     "data": {
      "application/vnd.jupyter.widget-view+json": {
       "model_id": "8c2dfa607d5947ad8e1ebffc6604bfb6",
       "version_major": 2,
       "version_minor": 0
      },
      "text/plain": [
       "Canvas(toolbar=Toolbar(toolitems=[('Home', 'Reset original view', 'home', 'home'), ('Back', 'Back to previous …"
      ]
     },
     "metadata": {},
     "output_type": "display_data"
    }
   ],
   "source": [
    "fig = plt.figure()\n",
    "ax1 = fig.add_subplot(111, projection='3d')\n",
    "\n",
    "arr_2d = np.array([[i]*10 for i in range(0, 10)])\n",
    "# print(arr_2d)\n",
    "\n",
    "nx = 10\n",
    "ny = 10\n",
    "\n",
    "xpos = np.array([[i]*nx for i in range(0, ny)])\n",
    "xpos = xpos.ravel()\n",
    "ypos = np.array([i for i in range(0, nx)]*nx)\n",
    "zpos = np.zeros(nx*ny)\n",
    "# print(xpos, ypos, zpos)\n",
    "\n",
    "dx = np.ones(nx*ny)\n",
    "dy = np.ones(nx*ny)\n",
    "dz = arr_2d.ravel()\n",
    "# print(dx, dy, dz)\n",
    "ax1.bar3d(xpos, ypos, zpos, dx, dy, dz, color=\"grey\")\n",
    "plt.show()"
   ]
  },
  {
   "cell_type": "code",
   "execution_count": 2,
   "metadata": {},
   "outputs": [],
   "source": [
    "def plot_matrix(matrix):\n",
    "    fig = plt.figure()\n",
    "    splt = fig.add_subplot(111, projection=\"3d\")\n",
    "    \n",
    "    ny = matrix.shape[0]\n",
    "    nx = matrix.shape[1]\n",
    "    \n",
    "    xpos = np.array([i for i in range(nx)]*ny)\n",
    "    ypos = np.array([[i]*nx for i in range(ny)])\n",
    "    ypos = ypos.ravel()\n",
    "    zpos = np.zeros(nx*ny)\n",
    "    \n",
    "    dx = np.ones(nx*ny)\n",
    "    dy = np.ones(nx*ny)\n",
    "    dz = matrix.ravel()\n",
    "    \n",
    "    splt.bar3d(ypos, xpos, zpos, dx, dy, dz, color=\"grey\")\n",
    "    plt.show()"
   ]
  },
  {
   "cell_type": "code",
   "execution_count": 36,
   "metadata": {},
   "outputs": [
    {
     "data": {
      "application/vnd.jupyter.widget-view+json": {
       "model_id": "",
       "version_major": 2,
       "version_minor": 0
      },
      "text/plain": [
       "Canvas(toolbar=Toolbar(toolitems=[('Home', 'Reset original view', 'home', 'home'), ('Back', 'Back to previous …"
      ]
     },
     "metadata": {},
     "output_type": "display_data"
    }
   ],
   "source": [
    "plot_matrix(arr_2d)\n",
    "plt.close()"
   ]
  },
  {
   "cell_type": "code",
   "execution_count": 3,
   "metadata": {},
   "outputs": [],
   "source": [
    "from PIL import Image"
   ]
  },
  {
   "cell_type": "code",
   "execution_count": null,
   "metadata": {},
   "outputs": [],
   "source": [
    "img = Image.open('Signs/stop.jpg')\n",
    "img_array = np.array(img)\n",
    "r, g, b = img_array[:,:,0], img_array[:,:,1], img_array[:,:,2]\n",
    "print(img_array.shape)\n",
    "plot_matrix(r)\n",
    "plot_matrix(g)\n",
    "plot_matrix(b)"
   ]
  }
 ],
 "metadata": {
  "kernelspec": {
   "display_name": "Python 3",
   "language": "python",
   "name": "python3"
  },
  "language_info": {
   "codemirror_mode": {
    "name": "ipython",
    "version": 3
   },
   "file_extension": ".py",
   "mimetype": "text/x-python",
   "name": "python",
   "nbconvert_exporter": "python",
   "pygments_lexer": "ipython3",
   "version": "3.7.4"
  }
 },
 "nbformat": 4,
 "nbformat_minor": 4
}
